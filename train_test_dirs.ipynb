{
 "cells": [
  {
   "cell_type": "code",
   "execution_count": 1,
   "metadata": {},
   "outputs": [],
   "source": [
    "import os\n",
    "import random\n",
    "import shutil"
   ]
  },
  {
   "cell_type": "code",
   "execution_count": 2,
   "metadata": {},
   "outputs": [],
   "source": [
    "# Source and dest paths\n",
    "src_path = '/Users/davidshatwell/dev/mt0017/ml-project/dataset/subimages/'\n",
    "dst_path = '/Users/davidshatwell/dev/mt0017/dl-project/dataset/'\n",
    "\n",
    "# Test ratio\n",
    "test_ratio = 0.2"
   ]
  },
  {
   "cell_type": "code",
   "execution_count": 3,
   "metadata": {},
   "outputs": [],
   "source": [
    "# Initialize classes dictionary\n",
    "classes = []\n",
    "\n",
    "# Loop through folders in srcPath (city, desert, forest, mountain, ocean)\n",
    "folders = os.listdir(src_path)\n",
    "\n",
    "for folder in folders:\n",
    "    \n",
    "    # Check if current string is a valid folder\n",
    "    folder_path = src_path + folder + '/'\n",
    "    if os.path.isdir(folder_path):\n",
    "        \n",
    "        # Add label to classes list\n",
    "        classes.append(folder)\n",
    "        \n",
    "        # Calculate number of files in current folder\n",
    "        images = [f for f in os.listdir(folder_path) if not f.startswith('.')]\n",
    "        num_images = len(images)\n",
    "        \n",
    "        # Shuffle and partition list\n",
    "        random.shuffle(images)\n",
    "        start_dev = 0\n",
    "        end_dev = round(num_images * test_ratio)\n",
    "        start_train = end_dev + 1\n",
    "        end_train = num_images\n",
    "        dev_set = images[start_dev:end_dev]\n",
    "        train_set = images[start_train:end_train]\n",
    "        \n",
    "        # Loop through dev set and copy images to dst_path\n",
    "        for dev in dev_set:\n",
    "            src_image_path = folder_path + dev\n",
    "            dst_image_path = dst_path + 'dev/' + folder + '/' + dev\n",
    "            dest = shutil.copyfile(src_image_path, dst_image_path) \n",
    "            \n",
    "        # Loop through train set and copy images to dst_path\n",
    "        for train in train_set:\n",
    "            src_image_path = folder_path + train\n",
    "            dst_image_path = dst_path + 'train/' + folder + '/' + train\n",
    "            dest = shutil.copyfile(src_image_path, dst_image_path) "
   ]
  },
  {
   "cell_type": "code",
   "execution_count": null,
   "metadata": {},
   "outputs": [],
   "source": []
  }
 ],
 "metadata": {
  "kernelspec": {
   "display_name": "Python 3",
   "language": "python",
   "name": "python3"
  },
  "language_info": {
   "codemirror_mode": {
    "name": "ipython",
    "version": 3
   },
   "file_extension": ".py",
   "mimetype": "text/x-python",
   "name": "python",
   "nbconvert_exporter": "python",
   "pygments_lexer": "ipython3",
   "version": "3.6.5"
  }
 },
 "nbformat": 4,
 "nbformat_minor": 4
}
