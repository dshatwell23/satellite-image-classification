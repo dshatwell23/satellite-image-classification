{
 "cells": [
  {
   "cell_type": "code",
   "execution_count": 1,
   "metadata": {},
   "outputs": [],
   "source": [
    "# Librerias\n",
    "import os\n",
    "import numpy as np\n",
    "import pandas as pd\n",
    "import ctfeatures as ctf\n",
    "from PIL import Image\n",
    "from sklearn.preprocessing import OneHotEncoder\n",
    "from sklearn.model_selection import train_test_split"
   ]
  },
  {
   "cell_type": "code",
   "execution_count": 2,
   "metadata": {},
   "outputs": [
    {
     "name": "stdout",
     "output_type": "stream",
     "text": [
      "Class: forest\n",
      "Class: ocean\n",
      "Class: city\n",
      "Class: mountain\n",
      "Class: desert\n"
     ]
    }
   ],
   "source": [
    "# Training Set\n",
    "path = '/Users/davidshatwell/dev/mt0017/ml-project/dataset/subimages/'\n",
    "\n",
    "columns = ['red mean', 'red var', 'red skew', 'red kurt', 'green mean', 'green var', 'green skew', 'green kurt', \n",
    "               'blue mean', 'blue var', 'blue skew', 'blue kurt', 'hue mean', 'hue var', 'hue skew', 'hue kurt',\n",
    "               'sat mean', 'sat var', 'sat skew', 'sat kurt', 'val mean', 'val var', 'val skew', 'val kurt',\n",
    "               'pc1-1', 'pc1-2', 'pc1-3', 'pc2-1', 'pc2-2', 'pc2-3', 'asm', 'contrast',\n",
    "               'correlation', 'variance', 'inv diff moment', 'sum average', 'sum variance', 'sum entropy', 'entropy', 'diff var',\n",
    "               'diff entropy', 'imc 1', 'imc 2']\n",
    "data = pd.DataFrame(columns=columns)\n",
    "\n",
    "num_subimages = ctf.count_subimages(path)\n",
    "num_features = 43\n",
    "X = np.empty((num_subimages, num_features))\n",
    "y = [''] * num_subimages\n",
    "index = 0\n",
    "\n",
    "image_classes = os.listdir(path)\n",
    "if '.DS_Store' in image_classes:\n",
    "    image_classes.remove('.DS_Store')\n",
    "for image_class in image_classes:\n",
    "    print('Class: ' + image_class)\n",
    "    class_path = path + image_class + '/'\n",
    "    images = os.listdir(class_path)\n",
    "    if '.DS_Store' in images:\n",
    "        images.remove('.DS_Store')\n",
    "    for image_name in images:\n",
    "        image_path = class_path + image_name\n",
    "        image = np.array(Image.open(image_path))\n",
    "        \n",
    "        color_features = ctf.get_color_features(image)\n",
    "        texture_features = ctf.get_texture_features(image)\n",
    "\n",
    "        X[index, 0:30] = color_features\n",
    "        X[index, 30:43] = texture_features\n",
    "        y[index] = image_class\n",
    "        index += 1\n"
   ]
  },
  {
   "cell_type": "code",
   "execution_count": 3,
   "metadata": {},
   "outputs": [
    {
     "name": "stdout",
     "output_type": "stream",
     "text": [
      "          red mean     red var  red skew   red kurt  green mean    green var  \\\n",
      "0        28.835327  276.482282 -0.066411  -0.853015   55.128479   515.510288   \n",
      "1        33.857788  888.001016  1.965643   5.911012   43.653137   573.989611   \n",
      "2        93.999451  914.459289  0.484027   0.247978   77.843140   640.813530   \n",
      "3        48.355225  782.059240  0.676559  -0.433600   64.376953  1197.049068   \n",
      "4        45.956604  709.861093  0.260461  -0.833219   63.648682   990.202381   \n",
      "...            ...         ...       ...        ...         ...          ...   \n",
      "105799  241.973572  134.038303 -1.364558   2.395541  203.521423   190.063140   \n",
      "105800  143.657959  599.930860 -3.203734  11.316613  128.640015   571.313526   \n",
      "105801  184.148499  165.947980 -1.368192   2.430469  176.192261   154.162621   \n",
      "105802  127.620178   30.412071 -0.189378   0.552987  131.478882    18.917157   \n",
      "105803  195.514465   20.600865  0.378838  -0.645742  178.171692    21.019899   \n",
      "\n",
      "        green skew  green kurt   blue mean    blue var  ...  inv diff moment  \\\n",
      "0        -0.303131   -0.885038   53.536255  288.215116  ...         0.191612   \n",
      "1         2.309448    9.040014   35.118896  649.094750  ...         0.217119   \n",
      "2         0.054782   -0.256355   61.137573  528.338373  ...         0.078494   \n",
      "3         0.581728   -0.729631   44.319214  660.203400  ...         0.074445   \n",
      "4         0.159399   -1.034411   43.261536  628.093647  ...         0.080386   \n",
      "...            ...         ...         ...         ...  ...              ...   \n",
      "105799   -0.399879    0.318075  167.429565  147.975874  ...         0.252384   \n",
      "105800   -3.184935   11.159234  105.654907  454.799978  ...         0.205173   \n",
      "105801   -1.387390    2.573712  169.123779  142.898253  ...         0.213698   \n",
      "105802   -0.371989    2.156735  125.116028   21.281276  ...         0.482165   \n",
      "105803    0.404609   -0.608841  159.309998   20.345003  ...         0.769676   \n",
      "\n",
      "        sum average  sum variance  sum entropy    entropy  diff var  \\\n",
      "0         97.750997   1681.668116     7.233690  10.921340  0.000688   \n",
      "1         81.035811   2443.131933     7.124388  10.641414  0.000418   \n",
      "2        159.083127   2315.533118     7.609011  12.474683  0.000156   \n",
      "3        118.135303   3716.811732     7.704119  12.651661  0.000138   \n",
      "4        115.954764   3224.865350     7.723815  12.551319  0.000187   \n",
      "...             ...           ...          ...        ...       ...   \n",
      "105799   417.094283    624.763322     6.620836  10.016068  0.000437   \n",
      "105800   259.462358   2048.307168     6.499523  10.134093  0.000441   \n",
      "105801   353.862431    562.678781     6.372200   9.923390  0.000421   \n",
      "105802   259.577546     73.669923     5.108181   7.105556  0.001558   \n",
      "105803   360.223577     81.085436     4.987503   5.823512  0.002390   \n",
      "\n",
      "        diff entropy     imc 1     imc 2   class  \n",
      "0           3.970113 -0.255885  0.977536  forest  \n",
      "1           3.930409 -0.278000  0.982721  forest  \n",
      "2           5.212517 -0.142724  0.920686  forest  \n",
      "3           5.450314 -0.148107  0.930411  forest  \n",
      "4           5.186430 -0.158172  0.937325  forest  \n",
      "...              ...       ...       ...     ...  \n",
      "105799      3.615705 -0.234350  0.958804  desert  \n",
      "105800      4.305475 -0.186651  0.932393  desert  \n",
      "105801      3.844863 -0.178220  0.916360  desert  \n",
      "105802      2.273224 -0.290265  0.949830  desert  \n",
      "105803      1.357966 -0.581322  0.995309  desert  \n",
      "\n",
      "[105804 rows x 44 columns]\n"
     ]
    }
   ],
   "source": [
    "# Create Data Frame to store the color and texture features of the image\n",
    "df = pd.DataFrame(X, columns=columns)\n",
    "df['class'] = y\n",
    "\n",
    "df.to_csv(\"new_train_data_128.csv\", index=False)\n",
    "        \n",
    "print(df)"
   ]
  },
  {
   "cell_type": "code",
   "execution_count": null,
   "metadata": {},
   "outputs": [],
   "source": []
  }
 ],
 "metadata": {
  "kernelspec": {
   "display_name": "Python 3",
   "language": "python",
   "name": "python3"
  },
  "language_info": {
   "codemirror_mode": {
    "name": "ipython",
    "version": 3
   },
   "file_extension": ".py",
   "mimetype": "text/x-python",
   "name": "python",
   "nbconvert_exporter": "python",
   "pygments_lexer": "ipython3",
   "version": "3.6.5"
  }
 },
 "nbformat": 4,
 "nbformat_minor": 4
}
