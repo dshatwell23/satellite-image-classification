{
 "cells": [
  {
   "cell_type": "code",
   "execution_count": 1,
   "metadata": {},
   "outputs": [],
   "source": [
    "# Librerias\n",
    "import os\n",
    "import numpy as np\n",
    "import pandas as pd\n",
    "import ctfeatures as ctf\n",
    "import scipy.misc\n",
    "from PIL import Image\n",
    "from sklearn.preprocessing import OneHotEncoder\n",
    "from sklearn.model_selection import train_test_split"
   ]
  },
  {
   "cell_type": "code",
   "execution_count": 2,
   "metadata": {},
   "outputs": [
    {
     "name": "stdout",
     "output_type": "stream",
     "text": [
      "\n",
      "Class: city_forest_ocean\n",
      "---------------\n",
      "Processing image: rio_de_janeiro.jpg\n"
     ]
    }
   ],
   "source": [
    "srcPath = '/Users/davidshatwell/dev/mt0017/ml-project/dataset/new_images/'\n",
    "dstPath = '/Users/davidshatwell/dev/mt0017/ml-project/dataset/new_subimages/'\n",
    "\n",
    "image_classes = os.listdir(srcPath)\n",
    "if '.DS_Store' in image_classes:\n",
    "    image_classes.remove('.DS_Store')\n",
    "\n",
    "for image_class in image_classes:\n",
    "    print()\n",
    "    print('Class: ' + image_class)\n",
    "    print('---------------')\n",
    "    class_path = srcPath + image_class + '/'\n",
    "    images = os.listdir(class_path)\n",
    "    if '.DS_Store' in images:\n",
    "        images.remove('.DS_Store')\n",
    "    for image_name in images:\n",
    "        print('Processing image: ' + image_name)\n",
    "        image_path = class_path + image_name\n",
    "        image = np.array(Image.open(image_path))\n",
    "        \n",
    "        # Numero de pixeles de la imagen y de las subimagenes\n",
    "        image_height = image.shape[0]\n",
    "        image_width = image.shape[1]\n",
    "        c = image.shape[2]\n",
    "        subimage_height = 128\n",
    "        subimage_width = 128\n",
    "\n",
    "        # Cortar los pixeles que sobran de cada dimension para que la imagen sea divisible\n",
    "        height_remainder = image_height % subimage_height\n",
    "        width_remainder = image_width % subimage_width\n",
    "        image = image[height_remainder:, width_remainder:, :]\n",
    "\n",
    "        # Nuevas dimensiones\n",
    "        image_height = image.shape[0]\n",
    "        image_width = image.shape[1]\n",
    "\n",
    "        # Crear un array de tamano (n_subimage, subimage_height, subimage_width)\n",
    "        num_subimages = int(image_height / subimage_height * image_width / subimage_width)\n",
    "\n",
    "        for i in range(int(image_height / subimage_height)):\n",
    "            for j in range(int(image_width / subimage_width)):\n",
    "                x_start = i * subimage_height\n",
    "                x_end = (i + 1) * subimage_height\n",
    "                y_start = j * subimage_width\n",
    "                y_end = (j + 1) * subimage_width\n",
    "                subimage = image[x_start:x_end, y_start:y_end, :]\n",
    "                pil_subimage = Image.fromarray(subimage)\n",
    "                subimage_path = dstPath + image_class + '/' + image_name[0:len(image_name)-4] + '_i=' + str(i) + '_j=' + str(j) + '.jpg'\n",
    "                pil_subimage.save(subimage_path)"
   ]
  },
  {
   "cell_type": "code",
   "execution_count": null,
   "metadata": {},
   "outputs": [],
   "source": []
  }
 ],
 "metadata": {
  "kernelspec": {
   "display_name": "Python 3",
   "language": "python",
   "name": "python3"
  },
  "language_info": {
   "codemirror_mode": {
    "name": "ipython",
    "version": 3
   },
   "file_extension": ".py",
   "mimetype": "text/x-python",
   "name": "python",
   "nbconvert_exporter": "python",
   "pygments_lexer": "ipython3",
   "version": "3.6.5"
  }
 },
 "nbformat": 4,
 "nbformat_minor": 4
}
